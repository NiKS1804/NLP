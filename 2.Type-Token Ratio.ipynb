{
 "cells": [
  {
   "cell_type": "markdown",
   "id": "6e533664",
   "metadata": {},
   "source": [
    "**Type-Token Ration(TTR) :**\n",
    "The lexical variety of the document is defined by the type-token ratio"
   ]
  },
  {
   "cell_type": "markdown",
   "id": "ee636c36",
   "metadata": {},
   "source": [
    "It can be used to measure the vocabulary variation or lexical density of the written text or speech. \n",
    "\n",
    "$$TTR=\\frac{V}{T_{n}}$$\n",
    "where, V - Vocabulary\n",
    "\n",
    "T_{n} - number of tokens in speech or text"
   ]
  },
  {
   "cell_type": "code",
   "execution_count": 1,
   "id": "bfe218c1",
   "metadata": {},
   "outputs": [],
   "source": [
    "import nltk\n",
    "from nltk.corpus import stopwords "
   ]
  },
  {
   "cell_type": "code",
   "execution_count": 2,
   "id": "995fc4b0",
   "metadata": {},
   "outputs": [],
   "source": [
    "stop_words = set(stopwords.words('english'))"
   ]
  },
  {
   "cell_type": "code",
   "execution_count": 3,
   "id": "d718ecf0",
   "metadata": {},
   "outputs": [
    {
     "data": {
      "text/plain": [
       "{'a',\n",
       " 'about',\n",
       " 'above',\n",
       " 'after',\n",
       " 'again',\n",
       " 'against',\n",
       " 'ain',\n",
       " 'all',\n",
       " 'am',\n",
       " 'an',\n",
       " 'and',\n",
       " 'any',\n",
       " 'are',\n",
       " 'aren',\n",
       " \"aren't\",\n",
       " 'as',\n",
       " 'at',\n",
       " 'be',\n",
       " 'because',\n",
       " 'been',\n",
       " 'before',\n",
       " 'being',\n",
       " 'below',\n",
       " 'between',\n",
       " 'both',\n",
       " 'but',\n",
       " 'by',\n",
       " 'can',\n",
       " 'couldn',\n",
       " \"couldn't\",\n",
       " 'd',\n",
       " 'did',\n",
       " 'didn',\n",
       " \"didn't\",\n",
       " 'do',\n",
       " 'does',\n",
       " 'doesn',\n",
       " \"doesn't\",\n",
       " 'doing',\n",
       " 'don',\n",
       " \"don't\",\n",
       " 'down',\n",
       " 'during',\n",
       " 'each',\n",
       " 'few',\n",
       " 'for',\n",
       " 'from',\n",
       " 'further',\n",
       " 'had',\n",
       " 'hadn',\n",
       " \"hadn't\",\n",
       " 'has',\n",
       " 'hasn',\n",
       " \"hasn't\",\n",
       " 'have',\n",
       " 'haven',\n",
       " \"haven't\",\n",
       " 'having',\n",
       " 'he',\n",
       " 'her',\n",
       " 'here',\n",
       " 'hers',\n",
       " 'herself',\n",
       " 'him',\n",
       " 'himself',\n",
       " 'his',\n",
       " 'how',\n",
       " 'i',\n",
       " 'if',\n",
       " 'in',\n",
       " 'into',\n",
       " 'is',\n",
       " 'isn',\n",
       " \"isn't\",\n",
       " 'it',\n",
       " \"it's\",\n",
       " 'its',\n",
       " 'itself',\n",
       " 'just',\n",
       " 'll',\n",
       " 'm',\n",
       " 'ma',\n",
       " 'me',\n",
       " 'mightn',\n",
       " \"mightn't\",\n",
       " 'more',\n",
       " 'most',\n",
       " 'mustn',\n",
       " \"mustn't\",\n",
       " 'my',\n",
       " 'myself',\n",
       " 'needn',\n",
       " \"needn't\",\n",
       " 'no',\n",
       " 'nor',\n",
       " 'not',\n",
       " 'now',\n",
       " 'o',\n",
       " 'of',\n",
       " 'off',\n",
       " 'on',\n",
       " 'once',\n",
       " 'only',\n",
       " 'or',\n",
       " 'other',\n",
       " 'our',\n",
       " 'ours',\n",
       " 'ourselves',\n",
       " 'out',\n",
       " 'over',\n",
       " 'own',\n",
       " 're',\n",
       " 's',\n",
       " 'same',\n",
       " 'shan',\n",
       " \"shan't\",\n",
       " 'she',\n",
       " \"she's\",\n",
       " 'should',\n",
       " \"should've\",\n",
       " 'shouldn',\n",
       " \"shouldn't\",\n",
       " 'so',\n",
       " 'some',\n",
       " 'such',\n",
       " 't',\n",
       " 'than',\n",
       " 'that',\n",
       " \"that'll\",\n",
       " 'the',\n",
       " 'their',\n",
       " 'theirs',\n",
       " 'them',\n",
       " 'themselves',\n",
       " 'then',\n",
       " 'there',\n",
       " 'these',\n",
       " 'they',\n",
       " 'this',\n",
       " 'those',\n",
       " 'through',\n",
       " 'to',\n",
       " 'too',\n",
       " 'under',\n",
       " 'until',\n",
       " 'up',\n",
       " 've',\n",
       " 'very',\n",
       " 'was',\n",
       " 'wasn',\n",
       " \"wasn't\",\n",
       " 'we',\n",
       " 'were',\n",
       " 'weren',\n",
       " \"weren't\",\n",
       " 'what',\n",
       " 'when',\n",
       " 'where',\n",
       " 'which',\n",
       " 'while',\n",
       " 'who',\n",
       " 'whom',\n",
       " 'why',\n",
       " 'will',\n",
       " 'with',\n",
       " 'won',\n",
       " \"won't\",\n",
       " 'wouldn',\n",
       " \"wouldn't\",\n",
       " 'y',\n",
       " 'you',\n",
       " \"you'd\",\n",
       " \"you'll\",\n",
       " \"you're\",\n",
       " \"you've\",\n",
       " 'your',\n",
       " 'yours',\n",
       " 'yourself',\n",
       " 'yourselves'}"
      ]
     },
     "execution_count": 3,
     "metadata": {},
     "output_type": "execute_result"
    }
   ],
   "source": [
    "stop_words"
   ]
  },
  {
   "cell_type": "code",
   "execution_count": 4,
   "id": "a901dbe9",
   "metadata": {},
   "outputs": [],
   "source": [
    "words_bryant = nltk.Text(nltk.corpus.gutenberg.words('bryant-stories.txt'))\n",
    "words_emma = nltk.Text(nltk.corpus.gutenberg.words('austen-emma.txt'))"
   ]
  },
  {
   "cell_type": "markdown",
   "id": "0aed83d6",
   "metadata": {},
   "source": [
    "It is not reasonable to compare two unequal sized docunents. A standardized TTR is used for fair comaprison. So restricting to first 15000 in both documnets"
   ]
  },
  {
   "cell_type": "code",
   "execution_count": 6,
   "id": "4a2c2f72",
   "metadata": {},
   "outputs": [],
   "source": [
    "words_bryant = [word.lower() for word in words_bryant if word not in stop_words ][:15000]\n",
    "words_emma = [word.lower() for word in words_emma if word not in stop_words ][:15000]"
   ]
  },
  {
   "cell_type": "code",
   "execution_count": 7,
   "id": "250934dc",
   "metadata": {},
   "outputs": [],
   "source": [
    "TTR_bryant = len(set(words_bryant))/len(words_bryant)\n",
    "TTR_emma = len(set(words_emma))/len(words_emma)"
   ]
  },
  {
   "cell_type": "code",
   "execution_count": 9,
   "id": "55fb3cec",
   "metadata": {},
   "outputs": [
    {
     "name": "stdout",
     "output_type": "stream",
     "text": [
      "For Bryant\n",
      "\t - Number of tokens :  15000 \n",
      "\t Vocabulary :  2218 \n",
      "\t TTR :  0.14786666666666667\n",
      "\n",
      "\n",
      "For Emma\n",
      "\t - Number of tokens :  15000 \n",
      "\t Vocabulary :  2764 \n",
      "\t TTR :  0.18426666666666666\n"
     ]
    }
   ],
   "source": [
    "print(\"For Bryant\\n\\t - Number of tokens : \",len(words_bryant),\"\\n\\t Vocabulary : \",len(set(words_bryant)), \"\\n\\t TTR : \",TTR_bryant)\n",
    "print(\"\\n\\nFor Emma\\n\\t - Number of tokens : \",len(words_emma),\"\\n\\t Vocabulary : \",len(set(words_emma)), \"\\n\\t TTR : \",TTR_emma)\n"
   ]
  },
  {
   "cell_type": "code",
   "execution_count": null,
   "id": "64341745",
   "metadata": {},
   "outputs": [],
   "source": []
  }
 ],
 "metadata": {
  "kernelspec": {
   "display_name": "Python 3",
   "language": "python",
   "name": "python3"
  },
  "language_info": {
   "codemirror_mode": {
    "name": "ipython",
    "version": 3
   },
   "file_extension": ".py",
   "mimetype": "text/x-python",
   "name": "python",
   "nbconvert_exporter": "python",
   "pygments_lexer": "ipython3",
   "version": "3.8.8"
  }
 },
 "nbformat": 4,
 "nbformat_minor": 5
}
