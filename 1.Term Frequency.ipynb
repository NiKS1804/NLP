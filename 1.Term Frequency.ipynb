{
 "cells": [
  {
   "cell_type": "markdown",
   "id": "1f24de66",
   "metadata": {},
   "source": [
    "**Term Frequency :** \n",
    "For the given document, term frequency is defined as the number of occurences of a term, $t_{i}$ in a documnet,  $d_{i}$ belonging to a corpus( $d_{1}$,  $d_{2}$,..., $d_{m}$). This is denoted by $tf_{i, d} $"
   ]
  },
  {
   "cell_type": "code",
   "execution_count": 1,
   "id": "e168aad9",
   "metadata": {},
   "outputs": [],
   "source": [
    "import nltk\n",
    "from nltk.probability import FreqDist\n",
    "from nltk.corpus import stopwords "
   ]
  },
  {
   "cell_type": "code",
   "execution_count": 4,
   "id": "ad4d737b",
   "metadata": {},
   "outputs": [
    {
     "name": "stderr",
     "output_type": "stream",
     "text": [
      "[nltk_data] Downloading package stopwords to\n",
      "[nltk_data]     /Users/nitishsingh/nltk_data...\n",
      "[nltk_data]   Unzipping corpora/stopwords.zip.\n"
     ]
    },
    {
     "data": {
      "text/plain": [
       "True"
      ]
     },
     "execution_count": 4,
     "metadata": {},
     "output_type": "execute_result"
    }
   ],
   "source": [
    "nltk.download('stopwords')"
   ]
  },
  {
   "cell_type": "code",
   "execution_count": 10,
   "id": "9f4dc5c3",
   "metadata": {},
   "outputs": [],
   "source": [
    "stop_words = set(stopwords.words('english'))"
   ]
  },
  {
   "cell_type": "code",
   "execution_count": 11,
   "id": "b3406bb5",
   "metadata": {},
   "outputs": [
    {
     "name": "stdout",
     "output_type": "stream",
     "text": [
      "{'her', \"haven't\", 'such', 'yourselves', 'you', 'doing', 'a', 'been', 'while', 'off', 'your', 'themselves', 'an', 'too', 'y', \"wouldn't\", 'any', 'at', \"should've\", 'haven', 's', 'i', \"you'll\", 'both', 'own', 'did', 'who', 'yourself', 'had', 'for', 'against', 'on', 'in', 'won', 'here', 'do', 'before', 'out', 'wouldn', 'him', \"mustn't\", \"couldn't\", 'hadn', 'having', 'she', 'not', 'hasn', 'are', 'further', 'its', 'what', \"you've\", 'through', 'that', 'from', 'being', 'during', 'aren', 'this', 'again', 'most', 'm', 'by', 'each', 'only', 'so', 'itself', 'theirs', 'needn', 'were', 'herself', 'can', 'about', 'if', 'me', 'does', 'have', 'o', 'ma', 'them', 'should', 'then', 'why', 'ours', 'few', 'same', 'where', \"you're\", 'with', 'now', 'd', 've', 'but', 'didn', \"you'd\", 'their', 'up', 'until', 'under', 'our', 'be', \"doesn't\", \"shan't\", 'very', 'ain', 'these', \"she's\", 'isn', 'just', 'myself', 'his', 're', 'after', 'above', \"aren't\", 'between', 'into', 'over', 'which', \"it's\", 'more', \"didn't\", 'no', 'of', \"isn't\", 'yours', \"that'll\", 'we', 'mustn', 'weren', 'has', \"wasn't\", 'those', 'once', \"weren't\", 'don', 'mightn', 'was', 'than', 'they', 'and', 'there', \"mightn't\", 'shan', 'the', 'hers', 'other', 'll', 'as', 'doesn', 'am', \"shouldn't\", 'couldn', 'he', \"hasn't\", 'to', 'nor', \"don't\", 'whom', \"needn't\", 'or', 'some', 'is', \"won't\", 'below', 'all', 'wasn', 'because', 't', 'down', 'himself', 'my', 'it', 'will', \"hadn't\", 'when', 'ourselves', 'how', 'shouldn'}\n"
     ]
    }
   ],
   "source": [
    "print(stop_words)"
   ]
  },
  {
   "cell_type": "code",
   "execution_count": 8,
   "id": "6f1503a3",
   "metadata": {},
   "outputs": [
    {
     "name": "stderr",
     "output_type": "stream",
     "text": [
      "[nltk_data] Downloading package gutenberg to\n",
      "[nltk_data]     /Users/nitishsingh/nltk_data...\n",
      "[nltk_data]   Package gutenberg is already up-to-date!\n"
     ]
    },
    {
     "data": {
      "text/plain": [
       "True"
      ]
     },
     "execution_count": 8,
     "metadata": {},
     "output_type": "execute_result"
    }
   ],
   "source": [
    "nltk.download('gutenberg')"
   ]
  },
  {
   "cell_type": "code",
   "execution_count": 12,
   "id": "64d31922",
   "metadata": {},
   "outputs": [],
   "source": [
    "#Read corpus\n",
    "words = nltk.Text(nltk.corpus.gutenberg.words('bryant-stories.txt'))"
   ]
  },
  {
   "cell_type": "code",
   "execution_count": 14,
   "id": "29f42d2e",
   "metadata": {},
   "outputs": [],
   "source": [
    "#convert to lowercase\n",
    "words = [word.lower() for word in words if word.isalpha()]\n",
    "words = [word.lower() for word in words if word not in stop_words ]"
   ]
  },
  {
   "cell_type": "code",
   "execution_count": 15,
   "id": "17508e13",
   "metadata": {},
   "outputs": [],
   "source": [
    "fDist = FreqDist(words)"
   ]
  },
  {
   "cell_type": "code",
   "execution_count": 16,
   "id": "bd34a1d0",
   "metadata": {},
   "outputs": [
    {
     "name": "stdout",
     "output_type": "stream",
     "text": [
      "Total words in corpus :  21718\n",
      "Total unques words :  3688\n"
     ]
    }
   ],
   "source": [
    "print(\"Total words in corpus : \",len(words))\n",
    "print(\"Total unques words : \",len(set(words)))"
   ]
  },
  {
   "cell_type": "code",
   "execution_count": 17,
   "id": "73e7fd51",
   "metadata": {},
   "outputs": [
    {
     "data": {
      "text/plain": [
       "FreqDist({'little': 597, 'said': 453, 'came': 191, 'one': 183, 'could': 158, 'king': 141, 'went': 122, 'would': 112, 'great': 110, 'day': 107, ...})"
      ]
     },
     "execution_count": 17,
     "metadata": {},
     "output_type": "execute_result"
    }
   ],
   "source": [
    "fDist"
   ]
  },
  {
   "cell_type": "code",
   "execution_count": 21,
   "id": "82481ef7",
   "metadata": {},
   "outputs": [
    {
     "data": {
      "text/plain": [
       "nltk.probability.FreqDist"
      ]
     },
     "execution_count": 21,
     "metadata": {},
     "output_type": "execute_result"
    }
   ],
   "source": [
    "type(fDist)"
   ]
  },
  {
   "cell_type": "code",
   "execution_count": 18,
   "id": "6f19b264",
   "metadata": {},
   "outputs": [
    {
     "data": {
      "text/plain": [
       "[('little', 597),\n",
       " ('said', 453),\n",
       " ('came', 191),\n",
       " ('one', 183),\n",
       " ('could', 158),\n",
       " ('king', 141),\n",
       " ('went', 122),\n",
       " ('would', 112),\n",
       " ('great', 110),\n",
       " ('day', 107)]"
      ]
     },
     "execution_count": 18,
     "metadata": {},
     "output_type": "execute_result"
    }
   ],
   "source": [
    "fDist.most_common(10)"
   ]
  },
  {
   "cell_type": "code",
   "execution_count": 19,
   "id": "79f0947c",
   "metadata": {},
   "outputs": [
    {
     "name": "stdout",
     "output_type": "stream",
     "text": [
      "little 597\n",
      "said 453\n",
      "came 191\n",
      "one 183\n",
      "could 158\n",
      "king 141\n",
      "went 122\n",
      "would 112\n",
      "great 110\n",
      "day 107\n"
     ]
    }
   ],
   "source": [
    "#raw count of words\n",
    "for x,v in fDist.most_common(10):\n",
    "    print(x, v)"
   ]
  },
  {
   "cell_type": "code",
   "execution_count": 20,
   "id": "7e556275",
   "metadata": {},
   "outputs": [
    {
     "name": "stdout",
     "output_type": "stream",
     "text": [
      "little 0.1618763557483731\n",
      "said 0.12283080260303687\n",
      "came 0.05178958785249458\n",
      "one 0.04962039045553145\n",
      "could 0.042841648590021694\n",
      "king 0.038232104121475055\n",
      "went 0.03308026030368764\n",
      "would 0.03036876355748373\n",
      "great 0.02982646420824295\n",
      "day 0.02901301518438178\n"
     ]
    }
   ],
   "source": [
    "#Term frequency adjusted to document length - Normalising\n",
    "for x,v in fDist.most_common(10):\n",
    "    print(x, v/len(fDist))"
   ]
  },
  {
   "cell_type": "markdown",
   "id": "c7b2ab3c",
   "metadata": {},
   "source": [
    "There are multiple weighting factors for TF\n",
    "1. Boolean : 0,1\n",
    "2. Raw Count : $tf_{i, d} $\n",
    "3. Adjusted to document length : $\\frac{tf_{i, d}}{M}$\n",
    "4. Log Weighting : $\\left\\{\\begin{array}{II}f_{1,d}-1+log t f_{i,d} & \\text{if } tf_{i,d}>0\\\\0, &\\text{otherwise}\\end{array}\\right.$\n"
   ]
  },
  {
   "cell_type": "code",
   "execution_count": null,
   "id": "114b566d",
   "metadata": {},
   "outputs": [],
   "source": []
  }
 ],
 "metadata": {
  "kernelspec": {
   "display_name": "Python 3",
   "language": "python",
   "name": "python3"
  },
  "language_info": {
   "codemirror_mode": {
    "name": "ipython",
    "version": 3
   },
   "file_extension": ".py",
   "mimetype": "text/x-python",
   "name": "python",
   "nbconvert_exporter": "python",
   "pygments_lexer": "ipython3",
   "version": "3.8.8"
  }
 },
 "nbformat": 4,
 "nbformat_minor": 5
}
